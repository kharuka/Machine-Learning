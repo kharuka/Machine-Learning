{
 "cells": [
  {
   "cell_type": "code",
   "execution_count": 1,
   "metadata": {},
   "outputs": [
    {
     "data": {
      "text/html": [
       "<img src=\"http://upload.wikimedia.org/wikipedia/commons/thumb/2/25/The_Normal_Distribution.svg/725px-The_Normal_Distribution.svg.png\"/>"
      ],
      "text/plain": [
       "<IPython.core.display.Image object>"
      ]
     },
     "execution_count": 1,
     "metadata": {},
     "output_type": "execute_result"
    }
   ],
   "source": [
    "from IPython.display import Image\n",
    "Image(url='http://upload.wikimedia.org/wikipedia/commons/thumb/2/25/The_Normal_Distribution.svg/725px-The_Normal_Distribution.svg.png')"
   ]
  },
  {
   "cell_type": "code",
   "execution_count": 2,
   "metadata": {},
   "outputs": [
    {
     "data": {
      "text/plain": [
       "[<matplotlib.lines.Line2D at 0x1e539af0da0>]"
      ]
     },
     "execution_count": 2,
     "metadata": {},
     "output_type": "execute_result"
    },
    {
     "data": {
      "image/png": "[encoded data removed]",
      "text/plain": [
       "<matplotlib.figure.Figure at 0x1e538ef0ba8>"
      ]
     },
     "metadata": {},
     "output_type": "display_data"
    }
   ],
   "source": [
    "import matplotlib as mpl\n",
    "import matplotlib.pyplot as plt\n",
    "import numpy as np\n",
    "%matplotlib inline\n",
    "\n",
    "from scipy import stats\n",
    "\n",
    "mean = 0\n",
    "\n",
    "std = 1\n",
    "\n",
    "X = np.arange(-4,4,0.01)\n",
    "\n",
    "Y = stats.norm.pdf(X,mean,std)\n",
    "\n",
    "plt.plot(X,Y)"
   ]
  },
  {
   "cell_type": "code",
   "execution_count": 3,
   "metadata": {
    "collapsed": true
   },
   "outputs": [],
   "source": [
    "import numpy as np\n",
    "\n",
    "mu,sigma = 0,0.1\n",
    "\n",
    "norm_set = np.random.normal(mu,sigma,1000)"
   ]
  },
  {
   "cell_type": "code",
   "execution_count": 4,
   "metadata": {},
   "outputs": [
    {
     "data": {
      "text/plain": [
       "(array([  1.,   1.,   0.,   0.,   2.,   1.,   1.,   4.,   3.,   4.,   5.,\n",
       "          8.,  10.,   8.,  14.,  22.,  37.,  28.,  20.,  45.,  47.,  39.,\n",
       "         62.,  41.,  45.,  58.,  53.,  59.,  44.,  49.,  36.,  47.,  27.,\n",
       "         37.,  33.,  19.,  20.,  18.,  13.,   8.,  10.,   6.,   2.,   2.,\n",
       "          2.,   5.,   1.,   1.,   0.,   2.]),\n",
       " array([-0.35983648, -0.3458785 , -0.33192053, -0.31796256, -0.30400458,\n",
       "        -0.29004661, -0.27608863, -0.26213066, -0.24817268, -0.23421471,\n",
       "        -0.22025674, -0.20629876, -0.19234079, -0.17838281, -0.16442484,\n",
       "        -0.15046686, -0.13650889, -0.12255091, -0.10859294, -0.09463497,\n",
       "        -0.08067699, -0.06671902, -0.05276104, -0.03880307, -0.02484509,\n",
       "        -0.01088712,  0.00307085,  0.01702883,  0.0309868 ,  0.04494478,\n",
       "         0.05890275,  0.07286073,  0.0868187 ,  0.10077667,  0.11473465,\n",
       "         0.12869262,  0.1426506 ,  0.15660857,  0.17056655,  0.18452452,\n",
       "         0.1984825 ,  0.21244047,  0.22639844,  0.24035642,  0.25431439,\n",
       "         0.26827237,  0.28223034,  0.29618832,  0.31014629,  0.32410426,\n",
       "         0.33806224]),\n",
       " <a list of 50 Patch objects>)"
      ]
     },
     "execution_count": 4,
     "metadata": {},
     "output_type": "execute_result"
    },
    {
     "data": {
      "image/png": "[encoded data removed]",
      "text/plain": [
       "<matplotlib.figure.Figure at 0x1e536fedd30>"
      ]
     },
     "metadata": {},
     "output_type": "display_data"
    }
   ],
   "source": [
    "import seaborn as sns\n",
    "\n",
    "plt.hist(norm_set,bins=50)"
   ]
  }
 ],
 "metadata": {
  "kernelspec": {
   "display_name": "Python 3",
   "language": "python",
   "name": "python3"
  },
  "language_info": {
   "codemirror_mode": {
    "name": "ipython",
    "version": 3
   },
   "file_extension": ".py",
   "mimetype": "text/x-python",
   "name": "python",
   "nbconvert_exporter": "python",
   "pygments_lexer": "ipython3",
   "version": "3.6.3"
  }
 },
 "nbformat": 4,
 "nbformat_minor": 2
}
